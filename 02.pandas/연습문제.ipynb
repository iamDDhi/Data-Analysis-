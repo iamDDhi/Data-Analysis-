{
 "metadata": {
  "language_info": {
   "codemirror_mode": {
    "name": "ipython",
    "version": 3
   },
   "file_extension": ".py",
   "mimetype": "text/x-python",
   "name": "python",
   "nbconvert_exporter": "python",
   "pygments_lexer": "ipython3",
   "version": "3.8.5"
  },
  "orig_nbformat": 2,
  "kernelspec": {
   "name": "python385jvsc74a57bd08c1eae21719a0790335dcb83aad72b63b602cfe5cdb2bda0f60bc11d4f154e4b",
   "display_name": "Python 3.8.5 64-bit ('base': conda)"
  }
 },
 "nbformat": 4,
 "nbformat_minor": 2,
 "cells": [
  {
   "cell_type": "code",
   "execution_count": 2,
   "metadata": {},
   "outputs": [],
   "source": [
    "import pandas as pd\n",
    "import numpy as np"
   ]
  },
  {
   "source": [
    "# 연습문제"
   ],
   "cell_type": "markdown",
   "metadata": {}
  },
  {
   "source": [
    "### 4.1"
   ],
   "cell_type": "markdown",
   "metadata": {}
  },
  {
   "source": [
    "(1) 임의로 두 개의 시리즈 객체를 만든다. 모두 문자열 인덱스를 가져야 하며 두 시리즈에 공통적으로 포함되지 않는 라벨이 있어야 한다."
   ],
   "cell_type": "markdown",
   "metadata": {}
  },
  {
   "cell_type": "code",
   "execution_count": 3,
   "metadata": {},
   "outputs": [
    {
     "output_type": "execute_result",
     "data": {
      "text/plain": [
       "cherry    1000\n",
       "apple     2000\n",
       "orange    3000\n",
       "dtype: int64"
      ]
     },
     "metadata": {},
     "execution_count": 3
    }
   ],
   "source": [
    "a = pd.Series([1000, 2000, 3000],\n",
    "                index =[\"cherry\",\"apple\",\"orange\"])\n",
    "a"
   ]
  },
  {
   "cell_type": "code",
   "execution_count": 4,
   "metadata": {},
   "outputs": [
    {
     "output_type": "execute_result",
     "data": {
      "text/plain": [
       "cherry    4000\n",
       "grape     5000\n",
       "orange    6000\n",
       "dtype: int64"
      ]
     },
     "metadata": {},
     "execution_count": 4
    }
   ],
   "source": [
    "b = pd.Series([4000, 5000, 6000],\n",
    "                index =[\"cherry\",\"grape\",\"orange\"])\n",
    "b"
   ]
  },
  {
   "source": [
    "\n",
    "(2) 위에서 만든 두 시리즈 객체를 이용하여 사칙 연산을 한다."
   ],
   "cell_type": "markdown",
   "metadata": {}
  },
  {
   "cell_type": "code",
   "execution_count": 5,
   "metadata": {},
   "outputs": [
    {
     "output_type": "execute_result",
     "data": {
      "text/plain": [
       "apple        NaN\n",
       "cherry    3000.0\n",
       "grape        NaN\n",
       "orange    3000.0\n",
       "dtype: float64"
      ]
     },
     "metadata": {},
     "execution_count": 5
    }
   ],
   "source": [
    "b-a"
   ]
  },
  {
   "cell_type": "code",
   "execution_count": 6,
   "metadata": {},
   "outputs": [
    {
     "output_type": "execute_result",
     "data": {
      "text/plain": [
       "apple        NaN\n",
       "cherry    5000.0\n",
       "grape        NaN\n",
       "orange    9000.0\n",
       "dtype: float64"
      ]
     },
     "metadata": {},
     "execution_count": 6
    }
   ],
   "source": [
    "b + a"
   ]
  },
  {
   "cell_type": "code",
   "execution_count": 7,
   "metadata": {},
   "outputs": [
    {
     "output_type": "execute_result",
     "data": {
      "text/plain": [
       "apple     NaN\n",
       "cherry    4.0\n",
       "grape     NaN\n",
       "orange    2.0\n",
       "dtype: float64"
      ]
     },
     "metadata": {},
     "execution_count": 7
    }
   ],
   "source": [
    "b / a"
   ]
  },
  {
   "cell_type": "code",
   "execution_count": 8,
   "metadata": {},
   "outputs": [
    {
     "output_type": "execute_result",
     "data": {
      "text/plain": [
       "apple            NaN\n",
       "cherry     4000000.0\n",
       "grape            NaN\n",
       "orange    18000000.0\n",
       "dtype: float64"
      ]
     },
     "metadata": {},
     "execution_count": 8
    }
   ],
   "source": [
    "b * a"
   ]
  },
  {
   "source": [
    "### 4.1.2"
   ],
   "cell_type": "markdown",
   "metadata": {}
  },
  {
   "source": [
    "다음 조건을 만족하는 임의의 데이터프레임을 하나 만든다.\n",
    "\n",
    "- (1) 열의 갯수와 행의 갯수가 각각 5개 이상이어야 한다.\n",
    "- (2) 열에는 정수, 문자열, 실수 자료형 데이터가 각각 1개 이상씩 포함되어 있어야 한다."
   ],
   "cell_type": "markdown",
   "metadata": {}
  },
  {
   "cell_type": "code",
   "execution_count": 9,
   "metadata": {},
   "outputs": [
    {
     "output_type": "execute_result",
     "data": {
      "text/plain": [
       "   int1  int2  int3 string  float\n",
       "0     1    10   100      a  3.140\n",
       "1     2    20   200      b  1.414\n",
       "2     3    30   300      c  1.732\n",
       "3     4    40   400      d  2.718\n",
       "4     5    50   500      e  2.235"
      ],
      "text/html": "<div>\n<style scoped>\n    .dataframe tbody tr th:only-of-type {\n        vertical-align: middle;\n    }\n\n    .dataframe tbody tr th {\n        vertical-align: top;\n    }\n\n    .dataframe thead th {\n        text-align: right;\n    }\n</style>\n<table border=\"1\" class=\"dataframe\">\n  <thead>\n    <tr style=\"text-align: right;\">\n      <th></th>\n      <th>int1</th>\n      <th>int2</th>\n      <th>int3</th>\n      <th>string</th>\n      <th>float</th>\n    </tr>\n  </thead>\n  <tbody>\n    <tr>\n      <th>0</th>\n      <td>1</td>\n      <td>10</td>\n      <td>100</td>\n      <td>a</td>\n      <td>3.140</td>\n    </tr>\n    <tr>\n      <th>1</th>\n      <td>2</td>\n      <td>20</td>\n      <td>200</td>\n      <td>b</td>\n      <td>1.414</td>\n    </tr>\n    <tr>\n      <th>2</th>\n      <td>3</td>\n      <td>30</td>\n      <td>300</td>\n      <td>c</td>\n      <td>1.732</td>\n    </tr>\n    <tr>\n      <th>3</th>\n      <td>4</td>\n      <td>40</td>\n      <td>400</td>\n      <td>d</td>\n      <td>2.718</td>\n    </tr>\n    <tr>\n      <th>4</th>\n      <td>5</td>\n      <td>50</td>\n      <td>500</td>\n      <td>e</td>\n      <td>2.235</td>\n    </tr>\n  </tbody>\n</table>\n</div>"
     },
     "metadata": {},
     "execution_count": 9
    }
   ],
   "source": [
    "pd.DataFrame({\n",
    "    'int1':[1,2,3,4,5],\n",
    "    'int2':[10,20,30,40,50],\n",
    "    'int3':[100,200,300,400,500],\n",
    "    'string':['a','b','c','d','e'],\n",
    "    'float':[3.14,1.414,1.732,2.718,2.235]\n",
    "})"
   ]
  },
  {
   "source": [
    "### 4.1.3"
   ],
   "cell_type": "markdown",
   "metadata": {}
  },
  {
   "source": [
    "다음 데이터프레임에서 지정하는 데이터를 뽑아내거나 처리하라."
   ],
   "cell_type": "markdown",
   "metadata": {}
  },
  {
   "cell_type": "code",
   "execution_count": 24,
   "metadata": {},
   "outputs": [
    {
     "output_type": "execute_result",
     "data": {
      "text/plain": [
       "    국어  영어  수학\n",
       "춘향  80  90  90\n",
       "몽룡  90  70  60\n",
       "향단  70  60  80\n",
       "방자  30  40  70"
      ],
      "text/html": "<div>\n<style scoped>\n    .dataframe tbody tr th:only-of-type {\n        vertical-align: middle;\n    }\n\n    .dataframe tbody tr th {\n        vertical-align: top;\n    }\n\n    .dataframe thead th {\n        text-align: right;\n    }\n</style>\n<table border=\"1\" class=\"dataframe\">\n  <thead>\n    <tr style=\"text-align: right;\">\n      <th></th>\n      <th>국어</th>\n      <th>영어</th>\n      <th>수학</th>\n    </tr>\n  </thead>\n  <tbody>\n    <tr>\n      <th>춘향</th>\n      <td>80</td>\n      <td>90</td>\n      <td>90</td>\n    </tr>\n    <tr>\n      <th>몽룡</th>\n      <td>90</td>\n      <td>70</td>\n      <td>60</td>\n    </tr>\n    <tr>\n      <th>향단</th>\n      <td>70</td>\n      <td>60</td>\n      <td>80</td>\n    </tr>\n    <tr>\n      <th>방자</th>\n      <td>30</td>\n      <td>40</td>\n      <td>70</td>\n    </tr>\n  </tbody>\n</table>\n</div>"
     },
     "metadata": {},
     "execution_count": 24
    }
   ],
   "source": [
    "data = {\n",
    "    \"국어\": [80, 90, 70, 30],\n",
    "    \"영어\": [90, 70, 60, 40],\n",
    "    \"수학\": [90, 60, 80, 70],\n",
    "}\n",
    "columns = [\"국어\", \"영어\", \"수학\"]\n",
    "index = [\"춘향\", \"몽룡\", \"향단\", \"방자\"]\n",
    "df2 = pd.DataFrame(data, index=index, columns=columns)\n",
    "df2"
   ]
  },
  {
   "cell_type": "code",
   "execution_count": 11,
   "metadata": {},
   "outputs": [
    {
     "output_type": "execute_result",
     "data": {
      "text/plain": [
       "춘향    90\n",
       "몽룡    60\n",
       "향단    80\n",
       "방자    70\n",
       "Name: 수학, dtype: int64"
      ]
     },
     "metadata": {},
     "execution_count": 11
    }
   ],
   "source": [
    "#(1) 모든 학생의 수학 점수를 시리즈로 나타낸다.\n",
    "df2['수학']"
   ]
  },
  {
   "cell_type": "code",
   "execution_count": 12,
   "metadata": {},
   "outputs": [
    {
     "output_type": "execute_result",
     "data": {
      "text/plain": [
       "    국어  영어\n",
       "춘향  80  90\n",
       "몽룡  90  70\n",
       "향단  70  60\n",
       "방자  30  40"
      ],
      "text/html": "<div>\n<style scoped>\n    .dataframe tbody tr th:only-of-type {\n        vertical-align: middle;\n    }\n\n    .dataframe tbody tr th {\n        vertical-align: top;\n    }\n\n    .dataframe thead th {\n        text-align: right;\n    }\n</style>\n<table border=\"1\" class=\"dataframe\">\n  <thead>\n    <tr style=\"text-align: right;\">\n      <th></th>\n      <th>국어</th>\n      <th>영어</th>\n    </tr>\n  </thead>\n  <tbody>\n    <tr>\n      <th>춘향</th>\n      <td>80</td>\n      <td>90</td>\n    </tr>\n    <tr>\n      <th>몽룡</th>\n      <td>90</td>\n      <td>70</td>\n    </tr>\n    <tr>\n      <th>향단</th>\n      <td>70</td>\n      <td>60</td>\n    </tr>\n    <tr>\n      <th>방자</th>\n      <td>30</td>\n      <td>40</td>\n    </tr>\n  </tbody>\n</table>\n</div>"
     },
     "metadata": {},
     "execution_count": 12
    }
   ],
   "source": [
    "#(2) 모든 학생의 국어와 영어 점수를 데이터 프레임으로 나타낸다.\n",
    "df2[[\"국어\",\"영어\"]]"
   ]
  },
  {
   "cell_type": "code",
   "execution_count": 13,
   "metadata": {},
   "outputs": [
    {
     "output_type": "execute_result",
     "data": {
      "text/plain": [
       "    국어  영어  수학     평균\n",
       "춘향  80  90  90  86.67\n",
       "몽룡  90  70  60  73.33\n",
       "향단  70  60  80  70.00\n",
       "방자  30  40  70  46.67"
      ],
      "text/html": "<div>\n<style scoped>\n    .dataframe tbody tr th:only-of-type {\n        vertical-align: middle;\n    }\n\n    .dataframe tbody tr th {\n        vertical-align: top;\n    }\n\n    .dataframe thead th {\n        text-align: right;\n    }\n</style>\n<table border=\"1\" class=\"dataframe\">\n  <thead>\n    <tr style=\"text-align: right;\">\n      <th></th>\n      <th>국어</th>\n      <th>영어</th>\n      <th>수학</th>\n      <th>평균</th>\n    </tr>\n  </thead>\n  <tbody>\n    <tr>\n      <th>춘향</th>\n      <td>80</td>\n      <td>90</td>\n      <td>90</td>\n      <td>86.67</td>\n    </tr>\n    <tr>\n      <th>몽룡</th>\n      <td>90</td>\n      <td>70</td>\n      <td>60</td>\n      <td>73.33</td>\n    </tr>\n    <tr>\n      <th>향단</th>\n      <td>70</td>\n      <td>60</td>\n      <td>80</td>\n      <td>70.00</td>\n    </tr>\n    <tr>\n      <th>방자</th>\n      <td>30</td>\n      <td>40</td>\n      <td>70</td>\n      <td>46.67</td>\n    </tr>\n  </tbody>\n</table>\n</div>"
     },
     "metadata": {},
     "execution_count": 13
    }
   ],
   "source": [
    "#(3) 모든 학생의 각 과목 평균 점수를 새로운 열로 추가한다.\n",
    "df2[\"평균\"] = np.mean(df2[[\"국어\",\"영어\",\"수학\"]].T).round(2)\n",
    "df2"
   ]
  },
  {
   "source": [
    "#(4) 방자의 영어 점수를 80점으로 수정하고 평균 점수도 다시 계산한다.\n",
    "df2.loc[\"방자\",\"영어\"] = 80\n",
    "df2"
   ],
   "cell_type": "code",
   "metadata": {},
   "execution_count": 33,
   "outputs": [
    {
     "output_type": "execute_result",
     "data": {
      "text/plain": [
       "    국어  영어  수학     평균\n",
       "춘향  80  90  90  86.67\n",
       "몽룡  90  70  60  73.33\n",
       "향단  70  60  80  70.00\n",
       "방자  30  80  70  46.67"
      ],
      "text/html": "<div>\n<style scoped>\n    .dataframe tbody tr th:only-of-type {\n        vertical-align: middle;\n    }\n\n    .dataframe tbody tr th {\n        vertical-align: top;\n    }\n\n    .dataframe thead th {\n        text-align: right;\n    }\n</style>\n<table border=\"1\" class=\"dataframe\">\n  <thead>\n    <tr style=\"text-align: right;\">\n      <th></th>\n      <th>국어</th>\n      <th>영어</th>\n      <th>수학</th>\n      <th>평균</th>\n    </tr>\n  </thead>\n  <tbody>\n    <tr>\n      <th>춘향</th>\n      <td>80</td>\n      <td>90</td>\n      <td>90</td>\n      <td>86.67</td>\n    </tr>\n    <tr>\n      <th>몽룡</th>\n      <td>90</td>\n      <td>70</td>\n      <td>60</td>\n      <td>73.33</td>\n    </tr>\n    <tr>\n      <th>향단</th>\n      <td>70</td>\n      <td>60</td>\n      <td>80</td>\n      <td>70.00</td>\n    </tr>\n    <tr>\n      <th>방자</th>\n      <td>30</td>\n      <td>80</td>\n      <td>70</td>\n      <td>46.67</td>\n    </tr>\n  </tbody>\n</table>\n</div>"
     },
     "metadata": {},
     "execution_count": 33
    }
   ]
  },
  {
   "cell_type": "code",
   "execution_count": 36,
   "metadata": {},
   "outputs": [
    {
     "output_type": "execute_result",
     "data": {
      "text/plain": [
       "    국어  영어  수학     평균\n",
       "춘향  80  90  90  86.67\n",
       "몽룡  90  70  60  73.33\n",
       "향단  70  60  80  70.00\n",
       "방자  30  80  70  60.00"
      ],
      "text/html": "<div>\n<style scoped>\n    .dataframe tbody tr th:only-of-type {\n        vertical-align: middle;\n    }\n\n    .dataframe tbody tr th {\n        vertical-align: top;\n    }\n\n    .dataframe thead th {\n        text-align: right;\n    }\n</style>\n<table border=\"1\" class=\"dataframe\">\n  <thead>\n    <tr style=\"text-align: right;\">\n      <th></th>\n      <th>국어</th>\n      <th>영어</th>\n      <th>수학</th>\n      <th>평균</th>\n    </tr>\n  </thead>\n  <tbody>\n    <tr>\n      <th>춘향</th>\n      <td>80</td>\n      <td>90</td>\n      <td>90</td>\n      <td>86.67</td>\n    </tr>\n    <tr>\n      <th>몽룡</th>\n      <td>90</td>\n      <td>70</td>\n      <td>60</td>\n      <td>73.33</td>\n    </tr>\n    <tr>\n      <th>향단</th>\n      <td>70</td>\n      <td>60</td>\n      <td>80</td>\n      <td>70.00</td>\n    </tr>\n    <tr>\n      <th>방자</th>\n      <td>30</td>\n      <td>80</td>\n      <td>70</td>\n      <td>60.00</td>\n    </tr>\n  </tbody>\n</table>\n</div>"
     },
     "metadata": {},
     "execution_count": 36
    }
   ],
   "source": [
    "df2[\"평균\"] = np.mean(df2[[\"국어\",\"영어\",\"수학\"]].T).round(2)\n",
    "df2"
   ]
  },
  {
   "cell_type": "code",
   "execution_count": null,
   "metadata": {},
   "outputs": [],
   "source": [
    "del df2['평균']\n",
    "df2['영어'][3] = 80\n",
    "df2['평균'] = np.round(df2.mean(axis=1), 2)\n",
    "df2"
   ]
  },
  {
   "cell_type": "code",
   "execution_count": 18,
   "metadata": {},
   "outputs": [
    {
     "output_type": "execute_result",
     "data": {
      "text/plain": [
       "    국어  영어  수학\n",
       "춘향  80  90  90"
      ],
      "text/html": "<div>\n<style scoped>\n    .dataframe tbody tr th:only-of-type {\n        vertical-align: middle;\n    }\n\n    .dataframe tbody tr th {\n        vertical-align: top;\n    }\n\n    .dataframe thead th {\n        text-align: right;\n    }\n</style>\n<table border=\"1\" class=\"dataframe\">\n  <thead>\n    <tr style=\"text-align: right;\">\n      <th></th>\n      <th>국어</th>\n      <th>영어</th>\n      <th>수학</th>\n    </tr>\n  </thead>\n  <tbody>\n    <tr>\n      <th>춘향</th>\n      <td>80</td>\n      <td>90</td>\n      <td>90</td>\n    </tr>\n  </tbody>\n</table>\n</div>"
     },
     "metadata": {},
     "execution_count": 18
    }
   ],
   "source": [
    "#(5) 춘향의 점수를 데이터프레임으로 나타낸다.\n",
    "df2[:1]"
   ]
  },
  {
   "cell_type": "code",
   "execution_count": 22,
   "metadata": {},
   "outputs": [
    {
     "output_type": "execute_result",
     "data": {
      "text/plain": [
       "    국어  영어  수학\n",
       "춘향  80  90  90"
      ],
      "text/html": "<div>\n<style scoped>\n    .dataframe tbody tr th:only-of-type {\n        vertical-align: middle;\n    }\n\n    .dataframe tbody tr th {\n        vertical-align: top;\n    }\n\n    .dataframe thead th {\n        text-align: right;\n    }\n</style>\n<table border=\"1\" class=\"dataframe\">\n  <thead>\n    <tr style=\"text-align: right;\">\n      <th></th>\n      <th>국어</th>\n      <th>영어</th>\n      <th>수학</th>\n    </tr>\n  </thead>\n  <tbody>\n    <tr>\n      <th>춘향</th>\n      <td>80</td>\n      <td>90</td>\n      <td>90</td>\n    </tr>\n  </tbody>\n</table>\n</div>"
     },
     "metadata": {},
     "execution_count": 22
    }
   ],
   "source": [
    "df2[:'춘향']"
   ]
  },
  {
   "cell_type": "code",
   "execution_count": 19,
   "metadata": {},
   "outputs": [
    {
     "output_type": "execute_result",
     "data": {
      "text/plain": [
       "국어    70\n",
       "영어    60\n",
       "수학    80\n",
       "Name: 향단, dtype: int64"
      ]
     },
     "metadata": {},
     "execution_count": 19
    }
   ],
   "source": [
    "#(6) 향단의 점수를 시리즈로 나타낸다.\n",
    "df2.iloc[2]"
   ]
  },
  {
   "cell_type": "code",
   "execution_count": 21,
   "metadata": {},
   "outputs": [
    {
     "output_type": "execute_result",
     "data": {
      "text/plain": [
       "국어    70\n",
       "영어    60\n",
       "수학    80\n",
       "Name: 향단, dtype: int64"
      ]
     },
     "metadata": {},
     "execution_count": 21
    }
   ],
   "source": [
    "df2.T['향단']"
   ]
  },
  {
   "source": [
    "### 4.3.1"
   ],
   "cell_type": "markdown",
   "metadata": {}
  },
  {
   "cell_type": "code",
   "execution_count": 49,
   "metadata": {},
   "outputs": [
    {
     "output_type": "execute_result",
     "data": {
      "text/plain": [
       "    label  JIM  MIC  PAM  DW  AN label2\n",
       "SD      A   10   16   21  26  31     aa\n",
       "AC      B   11   17   22  27  32     bb\n",
       "HR      C   13   18   23  28  33     cc\n",
       "SD2     D   14   19   24  29  34     dd\n",
       "IN      E   15   20   25  30  35     ee"
      ],
      "text/html": "<div>\n<style scoped>\n    .dataframe tbody tr th:only-of-type {\n        vertical-align: middle;\n    }\n\n    .dataframe tbody tr th {\n        vertical-align: top;\n    }\n\n    .dataframe thead th {\n        text-align: right;\n    }\n</style>\n<table border=\"1\" class=\"dataframe\">\n  <thead>\n    <tr style=\"text-align: right;\">\n      <th></th>\n      <th>label</th>\n      <th>JIM</th>\n      <th>MIC</th>\n      <th>PAM</th>\n      <th>DW</th>\n      <th>AN</th>\n      <th>label2</th>\n    </tr>\n  </thead>\n  <tbody>\n    <tr>\n      <th>SD</th>\n      <td>A</td>\n      <td>10</td>\n      <td>16</td>\n      <td>21</td>\n      <td>26</td>\n      <td>31</td>\n      <td>aa</td>\n    </tr>\n    <tr>\n      <th>AC</th>\n      <td>B</td>\n      <td>11</td>\n      <td>17</td>\n      <td>22</td>\n      <td>27</td>\n      <td>32</td>\n      <td>bb</td>\n    </tr>\n    <tr>\n      <th>HR</th>\n      <td>C</td>\n      <td>13</td>\n      <td>18</td>\n      <td>23</td>\n      <td>28</td>\n      <td>33</td>\n      <td>cc</td>\n    </tr>\n    <tr>\n      <th>SD2</th>\n      <td>D</td>\n      <td>14</td>\n      <td>19</td>\n      <td>24</td>\n      <td>29</td>\n      <td>34</td>\n      <td>dd</td>\n    </tr>\n    <tr>\n      <th>IN</th>\n      <td>E</td>\n      <td>15</td>\n      <td>20</td>\n      <td>25</td>\n      <td>30</td>\n      <td>35</td>\n      <td>ee</td>\n    </tr>\n  </tbody>\n</table>\n</div>"
     },
     "metadata": {},
     "execution_count": 49
    }
   ],
   "source": [
    "#1. 모든 행과 열에 라벨을 가지는 5 x 5 이상의 크기를 가지는 데이터프레임을 만든다.\n",
    "data = {\n",
    "    \"JIM\" : [10, 11, 13, 14, 15],\n",
    "    \"MIC\" : [16, 17, 18, 19, 20],\n",
    "    \"PAM\" : [21, 22, 23, 24, 25],\n",
    "    \"DW\" : [26, 27, 28, 29, 30],\n",
    "    \"AN\" : [31, 32, 33, 34, 35],\n",
    "    \"label\" : [\"A\", \"B\", \"C\", \"D\", \"E\"],\n",
    "    \"label2\" : [\"aa\", \"bb\", \"cc\", \"dd\", \"ee\"]\n",
    "}\n",
    "columns = [\"label\", \"JIM\", \"MIC\", \"PAM\", \"DW\", \"AN\", \"label2\"]\n",
    "index = [\"SD\", \"AC\", \"HR\", \"SD2\", \"IN\"]\n",
    "\n",
    "df3 = pd.DataFrame(data, index=index, columns=columns)\n",
    "df3"
   ]
  },
  {
   "cell_type": "code",
   "execution_count": null,
   "metadata": {},
   "outputs": [],
   "source": [
    "#2. 10가지 이상의 방법으로 특정한 행과 열을 선택한다."
   ]
  },
  {
   "cell_type": "code",
   "execution_count": 26,
   "metadata": {},
   "outputs": [
    {
     "output_type": "execute_result",
     "data": {
      "text/plain": [
       "    v   w   x   y   z\n",
       "a  86  58   1  95  87\n",
       "b  45  63  92  30  22\n",
       "c  94  25  13  71  71\n",
       "d  34   8   2  98  27\n",
       "e  67  49  64  50  17"
      ],
      "text/html": "<div>\n<style scoped>\n    .dataframe tbody tr th:only-of-type {\n        vertical-align: middle;\n    }\n\n    .dataframe tbody tr th {\n        vertical-align: top;\n    }\n\n    .dataframe thead th {\n        text-align: right;\n    }\n</style>\n<table border=\"1\" class=\"dataframe\">\n  <thead>\n    <tr style=\"text-align: right;\">\n      <th></th>\n      <th>v</th>\n      <th>w</th>\n      <th>x</th>\n      <th>y</th>\n      <th>z</th>\n    </tr>\n  </thead>\n  <tbody>\n    <tr>\n      <th>a</th>\n      <td>86</td>\n      <td>58</td>\n      <td>1</td>\n      <td>95</td>\n      <td>87</td>\n    </tr>\n    <tr>\n      <th>b</th>\n      <td>45</td>\n      <td>63</td>\n      <td>92</td>\n      <td>30</td>\n      <td>22</td>\n    </tr>\n    <tr>\n      <th>c</th>\n      <td>94</td>\n      <td>25</td>\n      <td>13</td>\n      <td>71</td>\n      <td>71</td>\n    </tr>\n    <tr>\n      <th>d</th>\n      <td>34</td>\n      <td>8</td>\n      <td>2</td>\n      <td>98</td>\n      <td>27</td>\n    </tr>\n    <tr>\n      <th>e</th>\n      <td>67</td>\n      <td>49</td>\n      <td>64</td>\n      <td>50</td>\n      <td>17</td>\n    </tr>\n  </tbody>\n</table>\n</div>"
     },
     "metadata": {},
     "execution_count": 26
    }
   ],
   "source": [
    "np.random.seed(2021)\n",
    "df = pd.DataFrame(np.random.randint(1, 100, 25).reshape(5,5),\n",
    "                  index=['a','b','c','d','e'],\n",
    "                  columns=['v','w','x','y','z'])\n",
    "df"
   ]
  },
  {
   "cell_type": "code",
   "execution_count": 27,
   "metadata": {},
   "outputs": [
    {
     "output_type": "execute_result",
     "data": {
      "text/plain": [
       "(63, 63, 63, 63)"
      ]
     },
     "metadata": {},
     "execution_count": 27
    }
   ],
   "source": [
    "# 2) 63을 선택\n",
    "df['w']['b'], df.w['b'], df.w[1], df.w.b"
   ]
  },
  {
   "cell_type": "code",
   "execution_count": 28,
   "metadata": {},
   "outputs": [
    {
     "output_type": "execute_result",
     "data": {
      "text/plain": [
       "(63, 63, 63)"
      ]
     },
     "metadata": {},
     "execution_count": 28
    }
   ],
   "source": [
    "df.loc['b','w'], df.loc['b']['w'], df.loc['b'][1]"
   ]
  },
  {
   "cell_type": "code",
   "execution_count": 29,
   "metadata": {},
   "outputs": [
    {
     "output_type": "execute_result",
     "data": {
      "text/plain": [
       "(63, 63, 63)"
      ]
     },
     "metadata": {},
     "execution_count": 29
    }
   ],
   "source": [
    "df.iloc[1,1], df.iloc[1][1], df.iloc[1]['w']"
   ]
  },
  {
   "source": [
    "###  4.4.1"
   ],
   "cell_type": "markdown",
   "metadata": {}
  },
  {
   "cell_type": "code",
   "execution_count": 30,
   "metadata": {},
   "outputs": [
    {
     "output_type": "execute_result",
     "data": {
      "text/plain": [
       "survived       891\n",
       "pclass         891\n",
       "sex            891\n",
       "age            714\n",
       "sibsp          891\n",
       "parch          891\n",
       "fare           891\n",
       "embarked       889\n",
       "class          891\n",
       "who            891\n",
       "adult_male     891\n",
       "deck           203\n",
       "embark_town    889\n",
       "alive          891\n",
       "alone          891\n",
       "dtype: int64"
      ]
     },
     "metadata": {},
     "execution_count": 30
    }
   ],
   "source": [
    "# 타이타닉호 승객 데이터의 데이터 개수를 각 열마다 구해본다.\n",
    "import seaborn as sns\n",
    "titanic = sns.load_dataset('titanic')\n",
    "titanic.count()"
   ]
  },
  {
   "source": [
    "### 4.4.2"
   ],
   "cell_type": "markdown",
   "metadata": {}
  },
  {
   "cell_type": "code",
   "execution_count": null,
   "metadata": {},
   "outputs": [],
   "source": [
    "#sort_values 메서드를 사용하여 타이타닉호 승객에 대해 성별(sex) 인원수, 나이별(age) 인원수, 선실별(class)인원수, 사망/생존(alive) 인원수를 구하라."
   ]
  },
  {
   "cell_type": "code",
   "execution_count": 31,
   "metadata": {},
   "outputs": [
    {
     "output_type": "execute_result",
     "data": {
      "text/plain": [
       "female    314\n",
       "male      577\n",
       "Name: sex, dtype: int64"
      ]
     },
     "metadata": {},
     "execution_count": 31
    }
   ],
   "source": [
    "#성별(sex) 인원수\n",
    "titanic.sex.value_counts().sort_values()"
   ]
  },
  {
   "cell_type": "code",
   "execution_count": 32,
   "metadata": {},
   "outputs": [
    {
     "output_type": "execute_result",
     "data": {
      "text/plain": [
       "12.00     1\n",
       "24.50     1\n",
       "66.00     1\n",
       "20.50     1\n",
       "0.67      1\n",
       "         ..\n",
       "19.00    25\n",
       "28.00    25\n",
       "18.00    26\n",
       "22.00    27\n",
       "24.00    30\n",
       "Name: age, Length: 88, dtype: int64"
      ]
     },
     "metadata": {},
     "execution_count": 32
    }
   ],
   "source": [
    "#나이별(age) 인원수\n",
    "titanic.age.value_counts().sort_values()"
   ]
  },
  {
   "cell_type": "code",
   "execution_count": 5,
   "metadata": {},
   "outputs": [
    {
     "output_type": "execute_result",
     "data": {
      "text/plain": [
       "Second    184\n",
       "First     216\n",
       "Third     491\n",
       "Name: class, dtype: int64"
      ]
     },
     "metadata": {},
     "execution_count": 5
    }
   ],
   "source": [
    "#선실별(class)인원수\n",
    "titanic[\"class\"].value_counts().sort_values()"
   ]
  },
  {
   "cell_type": "code",
   "execution_count": 7,
   "metadata": {},
   "outputs": [
    {
     "output_type": "execute_result",
     "data": {
      "text/plain": [
       "yes    342\n",
       "no     549\n",
       "Name: alive, dtype: int64"
      ]
     },
     "metadata": {},
     "execution_count": 7
    }
   ],
   "source": [
    "#사망/생존(alive) 인원수를 구하라.\n",
    "titanic.alive.value_counts().sort_values()"
   ]
  },
  {
   "source": [
    "### 4.4.3"
   ],
   "cell_type": "markdown",
   "metadata": {}
  },
  {
   "cell_type": "code",
   "execution_count": 94,
   "metadata": {},
   "outputs": [
    {
     "output_type": "execute_result",
     "data": {
      "text/plain": [
       "   survived  pclass     sex   age  sibsp  parch     fare embarked  class  \\\n",
       "0         0       3    male  22.0      1      0   7.2500        S  Third   \n",
       "1         1       1  female  38.0      1      0  71.2833        C  First   \n",
       "2         1       3  female  26.0      0      0   7.9250        S  Third   \n",
       "3         1       1  female  35.0      1      0  53.1000        S  First   \n",
       "4         0       3    male  35.0      0      0   8.0500        S  Third   \n",
       "\n",
       "     who  adult_male deck  embark_town alive  alone  \n",
       "0    man        True  NaN  Southampton    no  False  \n",
       "1  woman       False    C    Cherbourg   yes  False  \n",
       "2  woman       False  NaN  Southampton   yes   True  \n",
       "3  woman       False    C  Southampton   yes  False  \n",
       "4    man        True  NaN  Southampton    no   True  "
      ],
      "text/html": "<div>\n<style scoped>\n    .dataframe tbody tr th:only-of-type {\n        vertical-align: middle;\n    }\n\n    .dataframe tbody tr th {\n        vertical-align: top;\n    }\n\n    .dataframe thead th {\n        text-align: right;\n    }\n</style>\n<table border=\"1\" class=\"dataframe\">\n  <thead>\n    <tr style=\"text-align: right;\">\n      <th></th>\n      <th>survived</th>\n      <th>pclass</th>\n      <th>sex</th>\n      <th>age</th>\n      <th>sibsp</th>\n      <th>parch</th>\n      <th>fare</th>\n      <th>embarked</th>\n      <th>class</th>\n      <th>who</th>\n      <th>adult_male</th>\n      <th>deck</th>\n      <th>embark_town</th>\n      <th>alive</th>\n      <th>alone</th>\n    </tr>\n  </thead>\n  <tbody>\n    <tr>\n      <th>0</th>\n      <td>0</td>\n      <td>3</td>\n      <td>male</td>\n      <td>22.0</td>\n      <td>1</td>\n      <td>0</td>\n      <td>7.2500</td>\n      <td>S</td>\n      <td>Third</td>\n      <td>man</td>\n      <td>True</td>\n      <td>NaN</td>\n      <td>Southampton</td>\n      <td>no</td>\n      <td>False</td>\n    </tr>\n    <tr>\n      <th>1</th>\n      <td>1</td>\n      <td>1</td>\n      <td>female</td>\n      <td>38.0</td>\n      <td>1</td>\n      <td>0</td>\n      <td>71.2833</td>\n      <td>C</td>\n      <td>First</td>\n      <td>woman</td>\n      <td>False</td>\n      <td>C</td>\n      <td>Cherbourg</td>\n      <td>yes</td>\n      <td>False</td>\n    </tr>\n    <tr>\n      <th>2</th>\n      <td>1</td>\n      <td>3</td>\n      <td>female</td>\n      <td>26.0</td>\n      <td>0</td>\n      <td>0</td>\n      <td>7.9250</td>\n      <td>S</td>\n      <td>Third</td>\n      <td>woman</td>\n      <td>False</td>\n      <td>NaN</td>\n      <td>Southampton</td>\n      <td>yes</td>\n      <td>True</td>\n    </tr>\n    <tr>\n      <th>3</th>\n      <td>1</td>\n      <td>1</td>\n      <td>female</td>\n      <td>35.0</td>\n      <td>1</td>\n      <td>0</td>\n      <td>53.1000</td>\n      <td>S</td>\n      <td>First</td>\n      <td>woman</td>\n      <td>False</td>\n      <td>C</td>\n      <td>Southampton</td>\n      <td>yes</td>\n      <td>False</td>\n    </tr>\n    <tr>\n      <th>4</th>\n      <td>0</td>\n      <td>3</td>\n      <td>male</td>\n      <td>35.0</td>\n      <td>0</td>\n      <td>0</td>\n      <td>8.0500</td>\n      <td>S</td>\n      <td>Third</td>\n      <td>man</td>\n      <td>True</td>\n      <td>NaN</td>\n      <td>Southampton</td>\n      <td>no</td>\n      <td>True</td>\n    </tr>\n  </tbody>\n</table>\n</div>"
     },
     "metadata": {},
     "execution_count": 94
    }
   ],
   "source": [
    "titanic.head()"
   ]
  },
  {
   "cell_type": "code",
   "execution_count": 84,
   "metadata": {},
   "outputs": [
    {
     "output_type": "execute_result",
     "data": {
      "text/plain": [
       "29.7"
      ]
     },
     "metadata": {},
     "execution_count": 84
    }
   ],
   "source": [
    "#타이타닉호 승객의 평균 나이를 구하라.\n",
    "titanic.age.mean().round(2)"
   ]
  },
  {
   "source": [
    "#타이타닉호 승객중 여성 승객의 평균 나이를 구하라.\n",
    "titanic[titanic.sex == 'female'].age.mean().round(2)"
   ],
   "cell_type": "code",
   "metadata": {},
   "execution_count": 10,
   "outputs": [
    {
     "output_type": "execute_result",
     "data": {
      "text/plain": [
       "27.92"
      ]
     },
     "metadata": {},
     "execution_count": 10
    }
   ]
  },
  {
   "cell_type": "code",
   "execution_count": 13,
   "metadata": {},
   "outputs": [
    {
     "output_type": "execute_result",
     "data": {
      "text/plain": [
       "34.61"
      ]
     },
     "metadata": {},
     "execution_count": 13
    }
   ],
   "source": [
    "#타이타닉호 승객중 1등실 선실의 여성 승객의 평균 나이를 구하라.\n",
    "dft = titanic[titanic.pclass == 1]\n",
    "dft[dft.sex == 'female'].age.mean().round(2)"
   ]
  },
  {
   "source": [
    "### 4.4.4"
   ],
   "cell_type": "markdown",
   "metadata": {}
  },
  {
   "cell_type": "code",
   "execution_count": 33,
   "metadata": {},
   "outputs": [],
   "source": [
    "titanic1 = titanic[['survived', 'pclass', 'sex','age']]"
   ]
  },
  {
   "source": [
    "타이타닉호의 승객에 대해 나이와 성별에 의한 카테고리 열인 category1 열을 만들어라. category1 카테고리는 다음과 같이 정의된다.\n",
    "\n",
    "- 20살이 넘으면 성별을 그대로 사용한다.\n",
    "- 20살 미만이면 성별에 관계없이 “child”라고 한다.\n"
   ],
   "cell_type": "markdown",
   "metadata": {}
  },
  {
   "cell_type": "code",
   "execution_count": 34,
   "metadata": {},
   "outputs": [
    {
     "output_type": "execute_result",
     "data": {
      "text/plain": [
       "     survived  pclass     sex   age  sibsp  parch   fare embarked   class  \\\n",
       "886         0       2    male  27.0      0      0  13.00        S  Second   \n",
       "887         1       1  female  19.0      0      0  30.00        S   First   \n",
       "888         0       3  female   NaN      1      2  23.45        S   Third   \n",
       "889         1       1    male  26.0      0      0  30.00        C   First   \n",
       "890         0       3    male  32.0      0      0   7.75        Q   Third   \n",
       "\n",
       "       who  adult_male deck  embark_town alive  alone category1  \n",
       "886    man        True  NaN  Southampton    no   True      male  \n",
       "887  woman       False    B  Southampton   yes   True     child  \n",
       "888  woman       False  NaN  Southampton    no  False     child  \n",
       "889    man        True    C    Cherbourg   yes   True      male  \n",
       "890    man        True  NaN   Queenstown    no   True      male  "
      ],
      "text/html": "<div>\n<style scoped>\n    .dataframe tbody tr th:only-of-type {\n        vertical-align: middle;\n    }\n\n    .dataframe tbody tr th {\n        vertical-align: top;\n    }\n\n    .dataframe thead th {\n        text-align: right;\n    }\n</style>\n<table border=\"1\" class=\"dataframe\">\n  <thead>\n    <tr style=\"text-align: right;\">\n      <th></th>\n      <th>survived</th>\n      <th>pclass</th>\n      <th>sex</th>\n      <th>age</th>\n      <th>sibsp</th>\n      <th>parch</th>\n      <th>fare</th>\n      <th>embarked</th>\n      <th>class</th>\n      <th>who</th>\n      <th>adult_male</th>\n      <th>deck</th>\n      <th>embark_town</th>\n      <th>alive</th>\n      <th>alone</th>\n      <th>category1</th>\n    </tr>\n  </thead>\n  <tbody>\n    <tr>\n      <th>886</th>\n      <td>0</td>\n      <td>2</td>\n      <td>male</td>\n      <td>27.0</td>\n      <td>0</td>\n      <td>0</td>\n      <td>13.00</td>\n      <td>S</td>\n      <td>Second</td>\n      <td>man</td>\n      <td>True</td>\n      <td>NaN</td>\n      <td>Southampton</td>\n      <td>no</td>\n      <td>True</td>\n      <td>male</td>\n    </tr>\n    <tr>\n      <th>887</th>\n      <td>1</td>\n      <td>1</td>\n      <td>female</td>\n      <td>19.0</td>\n      <td>0</td>\n      <td>0</td>\n      <td>30.00</td>\n      <td>S</td>\n      <td>First</td>\n      <td>woman</td>\n      <td>False</td>\n      <td>B</td>\n      <td>Southampton</td>\n      <td>yes</td>\n      <td>True</td>\n      <td>child</td>\n    </tr>\n    <tr>\n      <th>888</th>\n      <td>0</td>\n      <td>3</td>\n      <td>female</td>\n      <td>NaN</td>\n      <td>1</td>\n      <td>2</td>\n      <td>23.45</td>\n      <td>S</td>\n      <td>Third</td>\n      <td>woman</td>\n      <td>False</td>\n      <td>NaN</td>\n      <td>Southampton</td>\n      <td>no</td>\n      <td>False</td>\n      <td>child</td>\n    </tr>\n    <tr>\n      <th>889</th>\n      <td>1</td>\n      <td>1</td>\n      <td>male</td>\n      <td>26.0</td>\n      <td>0</td>\n      <td>0</td>\n      <td>30.00</td>\n      <td>C</td>\n      <td>First</td>\n      <td>man</td>\n      <td>True</td>\n      <td>C</td>\n      <td>Cherbourg</td>\n      <td>yes</td>\n      <td>True</td>\n      <td>male</td>\n    </tr>\n    <tr>\n      <th>890</th>\n      <td>0</td>\n      <td>3</td>\n      <td>male</td>\n      <td>32.0</td>\n      <td>0</td>\n      <td>0</td>\n      <td>7.75</td>\n      <td>Q</td>\n      <td>Third</td>\n      <td>man</td>\n      <td>True</td>\n      <td>NaN</td>\n      <td>Queenstown</td>\n      <td>no</td>\n      <td>True</td>\n      <td>male</td>\n    </tr>\n  </tbody>\n</table>\n</div>"
     },
     "metadata": {},
     "execution_count": 34
    }
   ],
   "source": [
    "titanic['category1'] = titanic.apply(\n",
    "    lambda r: r.sex if r.age >= 20 else 'child', axis=1\n",
    ")\n",
    "titanic.tail()"
   ]
  },
  {
   "source": [
    "### 4.4.5"
   ],
   "cell_type": "markdown",
   "metadata": {}
  },
  {
   "source": [
    "타이타닉호의 승객 중 나이를 명시하지 않은 고객은 나이를 명시한 고객의 평균 나이 값이 되도록 titanic 데이터프레임을 고쳐라."
   ],
   "cell_type": "markdown",
   "metadata": {}
  },
  {
   "cell_type": "code",
   "execution_count": 36,
   "metadata": {},
   "outputs": [],
   "source": [
    "import warnings\n",
    "warnings.filterwarnings('ignore')"
   ]
  },
  {
   "cell_type": "code",
   "execution_count": 38,
   "metadata": {},
   "outputs": [
    {
     "output_type": "execute_result",
     "data": {
      "text/plain": [
       "     survived  pclass     sex   age  sibsp  parch   fare embarked   class  \\\n",
       "886         0       2    male  27.0      0      0  13.00        S  Second   \n",
       "887         1       1  female  19.0      0      0  30.00        S   First   \n",
       "888         0       3  female  30.0      1      2  23.45        S   Third   \n",
       "889         1       1    male  26.0      0      0  30.00        C   First   \n",
       "890         0       3    male  32.0      0      0   7.75        Q   Third   \n",
       "\n",
       "       who  adult_male deck  embark_town alive  alone category1  \n",
       "886    man        True  NaN  Southampton    no   True      male  \n",
       "887  woman       False    B  Southampton   yes   True     child  \n",
       "888  woman       False  NaN  Southampton    no  False     child  \n",
       "889    man        True    C    Cherbourg   yes   True      male  \n",
       "890    man        True  NaN   Queenstown    no   True      male  "
      ],
      "text/html": "<div>\n<style scoped>\n    .dataframe tbody tr th:only-of-type {\n        vertical-align: middle;\n    }\n\n    .dataframe tbody tr th {\n        vertical-align: top;\n    }\n\n    .dataframe thead th {\n        text-align: right;\n    }\n</style>\n<table border=\"1\" class=\"dataframe\">\n  <thead>\n    <tr style=\"text-align: right;\">\n      <th></th>\n      <th>survived</th>\n      <th>pclass</th>\n      <th>sex</th>\n      <th>age</th>\n      <th>sibsp</th>\n      <th>parch</th>\n      <th>fare</th>\n      <th>embarked</th>\n      <th>class</th>\n      <th>who</th>\n      <th>adult_male</th>\n      <th>deck</th>\n      <th>embark_town</th>\n      <th>alive</th>\n      <th>alone</th>\n      <th>category1</th>\n    </tr>\n  </thead>\n  <tbody>\n    <tr>\n      <th>886</th>\n      <td>0</td>\n      <td>2</td>\n      <td>male</td>\n      <td>27.0</td>\n      <td>0</td>\n      <td>0</td>\n      <td>13.00</td>\n      <td>S</td>\n      <td>Second</td>\n      <td>man</td>\n      <td>True</td>\n      <td>NaN</td>\n      <td>Southampton</td>\n      <td>no</td>\n      <td>True</td>\n      <td>male</td>\n    </tr>\n    <tr>\n      <th>887</th>\n      <td>1</td>\n      <td>1</td>\n      <td>female</td>\n      <td>19.0</td>\n      <td>0</td>\n      <td>0</td>\n      <td>30.00</td>\n      <td>S</td>\n      <td>First</td>\n      <td>woman</td>\n      <td>False</td>\n      <td>B</td>\n      <td>Southampton</td>\n      <td>yes</td>\n      <td>True</td>\n      <td>child</td>\n    </tr>\n    <tr>\n      <th>888</th>\n      <td>0</td>\n      <td>3</td>\n      <td>female</td>\n      <td>30.0</td>\n      <td>1</td>\n      <td>2</td>\n      <td>23.45</td>\n      <td>S</td>\n      <td>Third</td>\n      <td>woman</td>\n      <td>False</td>\n      <td>NaN</td>\n      <td>Southampton</td>\n      <td>no</td>\n      <td>False</td>\n      <td>child</td>\n    </tr>\n    <tr>\n      <th>889</th>\n      <td>1</td>\n      <td>1</td>\n      <td>male</td>\n      <td>26.0</td>\n      <td>0</td>\n      <td>0</td>\n      <td>30.00</td>\n      <td>C</td>\n      <td>First</td>\n      <td>man</td>\n      <td>True</td>\n      <td>C</td>\n      <td>Cherbourg</td>\n      <td>yes</td>\n      <td>True</td>\n      <td>male</td>\n    </tr>\n    <tr>\n      <th>890</th>\n      <td>0</td>\n      <td>3</td>\n      <td>male</td>\n      <td>32.0</td>\n      <td>0</td>\n      <td>0</td>\n      <td>7.75</td>\n      <td>Q</td>\n      <td>Third</td>\n      <td>man</td>\n      <td>True</td>\n      <td>NaN</td>\n      <td>Queenstown</td>\n      <td>no</td>\n      <td>True</td>\n      <td>male</td>\n    </tr>\n  </tbody>\n</table>\n</div>"
     },
     "metadata": {},
     "execution_count": 38
    }
   ],
   "source": [
    "# titanic['age'] = titanic.age.fillna(np.round(titanic.age.mean()))\n",
    "titanic.age.fillna(np.round(titanic.age.mean()), inplace=True)\n",
    "titanic.tail()"
   ]
  },
  {
   "source": [
    "### 4.4.6"
   ],
   "cell_type": "markdown",
   "metadata": {}
  },
  {
   "source": [
    "타이타닉호의 승객에 대해 나이와 성별에 의한 카테고리 열인 category2 열을 만들어라. category2 카테고리는 다음과 같이 정의된다.\n",
    "\n",
    "- 성별을 나타내는 문자열 male 또는 female로 시작한다.\n",
    "- 성별을 나타내는 문자열 뒤에 나이를 나타내는 문자열이 온다.\n",
    "- 예를 들어 27살 남성은 male27 값이 된다.\n"
   ],
   "cell_type": "markdown",
   "metadata": {}
  },
  {
   "cell_type": "code",
   "execution_count": 39,
   "metadata": {},
   "outputs": [
    {
     "output_type": "execute_result",
     "data": {
      "text/plain": [
       "     survived  pclass     sex   age  sibsp  parch   fare embarked   class  \\\n",
       "886         0       2    male  27.0      0      0  13.00        S  Second   \n",
       "887         1       1  female  19.0      0      0  30.00        S   First   \n",
       "888         0       3  female  30.0      1      2  23.45        S   Third   \n",
       "889         1       1    male  26.0      0      0  30.00        C   First   \n",
       "890         0       3    male  32.0      0      0   7.75        Q   Third   \n",
       "\n",
       "       who  adult_male deck  embark_town alive  alone category1 category2  \n",
       "886    man        True  NaN  Southampton    no   True      male    male27  \n",
       "887  woman       False    B  Southampton   yes   True     child  female19  \n",
       "888  woman       False  NaN  Southampton    no  False     child  female30  \n",
       "889    man        True    C    Cherbourg   yes   True      male    male26  \n",
       "890    man        True  NaN   Queenstown    no   True      male    male32  "
      ],
      "text/html": "<div>\n<style scoped>\n    .dataframe tbody tr th:only-of-type {\n        vertical-align: middle;\n    }\n\n    .dataframe tbody tr th {\n        vertical-align: top;\n    }\n\n    .dataframe thead th {\n        text-align: right;\n    }\n</style>\n<table border=\"1\" class=\"dataframe\">\n  <thead>\n    <tr style=\"text-align: right;\">\n      <th></th>\n      <th>survived</th>\n      <th>pclass</th>\n      <th>sex</th>\n      <th>age</th>\n      <th>sibsp</th>\n      <th>parch</th>\n      <th>fare</th>\n      <th>embarked</th>\n      <th>class</th>\n      <th>who</th>\n      <th>adult_male</th>\n      <th>deck</th>\n      <th>embark_town</th>\n      <th>alive</th>\n      <th>alone</th>\n      <th>category1</th>\n      <th>category2</th>\n    </tr>\n  </thead>\n  <tbody>\n    <tr>\n      <th>886</th>\n      <td>0</td>\n      <td>2</td>\n      <td>male</td>\n      <td>27.0</td>\n      <td>0</td>\n      <td>0</td>\n      <td>13.00</td>\n      <td>S</td>\n      <td>Second</td>\n      <td>man</td>\n      <td>True</td>\n      <td>NaN</td>\n      <td>Southampton</td>\n      <td>no</td>\n      <td>True</td>\n      <td>male</td>\n      <td>male27</td>\n    </tr>\n    <tr>\n      <th>887</th>\n      <td>1</td>\n      <td>1</td>\n      <td>female</td>\n      <td>19.0</td>\n      <td>0</td>\n      <td>0</td>\n      <td>30.00</td>\n      <td>S</td>\n      <td>First</td>\n      <td>woman</td>\n      <td>False</td>\n      <td>B</td>\n      <td>Southampton</td>\n      <td>yes</td>\n      <td>True</td>\n      <td>child</td>\n      <td>female19</td>\n    </tr>\n    <tr>\n      <th>888</th>\n      <td>0</td>\n      <td>3</td>\n      <td>female</td>\n      <td>30.0</td>\n      <td>1</td>\n      <td>2</td>\n      <td>23.45</td>\n      <td>S</td>\n      <td>Third</td>\n      <td>woman</td>\n      <td>False</td>\n      <td>NaN</td>\n      <td>Southampton</td>\n      <td>no</td>\n      <td>False</td>\n      <td>child</td>\n      <td>female30</td>\n    </tr>\n    <tr>\n      <th>889</th>\n      <td>1</td>\n      <td>1</td>\n      <td>male</td>\n      <td>26.0</td>\n      <td>0</td>\n      <td>0</td>\n      <td>30.00</td>\n      <td>C</td>\n      <td>First</td>\n      <td>man</td>\n      <td>True</td>\n      <td>C</td>\n      <td>Cherbourg</td>\n      <td>yes</td>\n      <td>True</td>\n      <td>male</td>\n      <td>male26</td>\n    </tr>\n    <tr>\n      <th>890</th>\n      <td>0</td>\n      <td>3</td>\n      <td>male</td>\n      <td>32.0</td>\n      <td>0</td>\n      <td>0</td>\n      <td>7.75</td>\n      <td>Q</td>\n      <td>Third</td>\n      <td>man</td>\n      <td>True</td>\n      <td>NaN</td>\n      <td>Queenstown</td>\n      <td>no</td>\n      <td>True</td>\n      <td>male</td>\n      <td>male32</td>\n    </tr>\n  </tbody>\n</table>\n</div>"
     },
     "metadata": {},
     "execution_count": 39
    }
   ],
   "source": [
    "titanic['category2'] = titanic.sex + titanic.age.astype(int).astype(str)\n",
    "titanic.tail()"
   ]
  },
  {
   "source": [
    "###  4.4.7"
   ],
   "cell_type": "markdown",
   "metadata": {}
  },
  {
   "source": [
    "타이타닉호 승객을 ‘미성년자’, ‘청년’, ‘중년’, ‘장년’, ‘노년’ 나이 그룹으로 나눈다.\n",
    "\n",
    "bins = [1, 20, 30, 50, 70, 100]\n",
    "labels = [\"미성년자\", \"청년\", \"중년\", \"장년\", \"노년\"]\n",
    "그리고 각 나이 그룹의 승객 비율을 구한다. 비율의 전체 합은 1이 되어야 한다."
   ],
   "cell_type": "code",
   "metadata": {},
   "execution_count": null,
   "outputs": []
  },
  {
   "cell_type": "code",
   "execution_count": 40,
   "metadata": {},
   "outputs": [
    {
     "output_type": "execute_result",
     "data": {
      "text/plain": [
       "['청년', '중년', '청년', '중년', '중년', ..., '청년', '미성년자', '청년', '청년', '중년']\n",
       "Length: 891\n",
       "Categories (5, object): ['미성년자' < '청년' < '중년' < '장년' < '노년']"
      ]
     },
     "metadata": {},
     "execution_count": 40
    }
   ],
   "source": [
    "bins = [1, 20, 30, 50, 70, 100]\n",
    "labels = [\"미성년자\", \"청년\", \"중년\", \"장년\", \"노년\"]\n",
    "cats = pd.cut(titanic.age.values, bins, labels=labels)\n",
    "cats"
   ]
  },
  {
   "cell_type": "code",
   "execution_count": 41,
   "metadata": {},
   "outputs": [
    {
     "output_type": "execute_result",
     "data": {
      "text/plain": [
       "미성년자    165\n",
       "청년      407\n",
       "중년      241\n",
       "장년       59\n",
       "노년        5\n",
       "dtype: int64"
      ]
     },
     "metadata": {},
     "execution_count": 41
    }
   ],
   "source": [
    "cats.value_counts()"
   ]
  },
  {
   "cell_type": "code",
   "execution_count": 42,
   "metadata": {},
   "outputs": [
    {
     "output_type": "execute_result",
     "data": {
      "text/plain": [
       "      인원수\n",
       "미성년자  165\n",
       "청년    407\n",
       "중년    241\n",
       "장년     59\n",
       "노년      5"
      ],
      "text/html": "<div>\n<style scoped>\n    .dataframe tbody tr th:only-of-type {\n        vertical-align: middle;\n    }\n\n    .dataframe tbody tr th {\n        vertical-align: top;\n    }\n\n    .dataframe thead th {\n        text-align: right;\n    }\n</style>\n<table border=\"1\" class=\"dataframe\">\n  <thead>\n    <tr style=\"text-align: right;\">\n      <th></th>\n      <th>인원수</th>\n    </tr>\n  </thead>\n  <tbody>\n    <tr>\n      <th>미성년자</th>\n      <td>165</td>\n    </tr>\n    <tr>\n      <th>청년</th>\n      <td>407</td>\n    </tr>\n    <tr>\n      <th>중년</th>\n      <td>241</td>\n    </tr>\n    <tr>\n      <th>장년</th>\n      <td>59</td>\n    </tr>\n    <tr>\n      <th>노년</th>\n      <td>5</td>\n    </tr>\n  </tbody>\n</table>\n</div>"
     },
     "metadata": {},
     "execution_count": 42
    }
   ],
   "source": [
    "df = pd.DataFrame(cats.value_counts(), columns=['인원수'])\n",
    "df"
   ]
  },
  {
   "cell_type": "code",
   "execution_count": 43,
   "metadata": {},
   "outputs": [
    {
     "output_type": "execute_result",
     "data": {
      "text/plain": [
       "      인원수  비율(%)\n",
       "미성년자  165  18.81\n",
       "청년    407  46.41\n",
       "중년    241  27.48\n",
       "장년     59   6.73\n",
       "노년      5   0.57"
      ],
      "text/html": "<div>\n<style scoped>\n    .dataframe tbody tr th:only-of-type {\n        vertical-align: middle;\n    }\n\n    .dataframe tbody tr th {\n        vertical-align: top;\n    }\n\n    .dataframe thead th {\n        text-align: right;\n    }\n</style>\n<table border=\"1\" class=\"dataframe\">\n  <thead>\n    <tr style=\"text-align: right;\">\n      <th></th>\n      <th>인원수</th>\n      <th>비율(%)</th>\n    </tr>\n  </thead>\n  <tbody>\n    <tr>\n      <th>미성년자</th>\n      <td>165</td>\n      <td>18.81</td>\n    </tr>\n    <tr>\n      <th>청년</th>\n      <td>407</td>\n      <td>46.41</td>\n    </tr>\n    <tr>\n      <th>중년</th>\n      <td>241</td>\n      <td>27.48</td>\n    </tr>\n    <tr>\n      <th>장년</th>\n      <td>59</td>\n      <td>6.73</td>\n    </tr>\n    <tr>\n      <th>노년</th>\n      <td>5</td>\n      <td>0.57</td>\n    </tr>\n  </tbody>\n</table>\n</div>"
     },
     "metadata": {},
     "execution_count": 43
    }
   ],
   "source": [
    "df['비율(%)'] = np.round(df['인원수'] / df['인원수'].sum() * 100, 2)\n",
    "df"
   ]
  },
  {
   "cell_type": "code",
   "execution_count": 44,
   "metadata": {},
   "outputs": [
    {
     "output_type": "execute_result",
     "data": {
      "text/plain": [
       "100.0"
      ]
     },
     "metadata": {},
     "execution_count": 44
    }
   ],
   "source": [
    "df['비율(%)'].sum()"
   ]
  },
  {
   "source": [
    "### 4.4.8"
   ],
   "cell_type": "markdown",
   "metadata": {}
  },
  {
   "source": [
    "타이타닉호의 승객에 대해 나이와 성별에 의한 카테고리 열인 category3 열을 만들어라. category3 카테고리는 다음과 같이 정의된다.\n",
    "\n",
    "- 20살 미만이면 성별에 관계없이 “미성년자”라고 한다.\n",
    "- 20살 이상이면 나이에 따라 “청년”, “중년”, “장년”, “노년”을 구분하고 그 뒤에 성별을 나타내는 “남성”, “여성”을 붙인다."
   ],
   "cell_type": "markdown",
   "metadata": {}
  },
  {
   "cell_type": "code",
   "execution_count": 45,
   "metadata": {},
   "outputs": [
    {
     "output_type": "execute_result",
     "data": {
      "text/plain": [
       "     survived  pclass     sex   age  sibsp  parch   fare embarked   class  \\\n",
       "886         0       2    male  27.0      0      0  13.00        S  Second   \n",
       "887         1       1  female  19.0      0      0  30.00        S   First   \n",
       "888         0       3  female  30.0      1      2  23.45        S   Third   \n",
       "889         1       1    male  26.0      0      0  30.00        C   First   \n",
       "890         0       3    male  32.0      0      0   7.75        Q   Third   \n",
       "\n",
       "       who  adult_male deck  embark_town alive  alone category1 category2  \\\n",
       "886    man        True  NaN  Southampton    no   True      male    male27   \n",
       "887  woman       False    B  Southampton   yes   True     child  female19   \n",
       "888  woman       False  NaN  Southampton    no  False     child  female30   \n",
       "889    man        True    C    Cherbourg   yes   True      male    male26   \n",
       "890    man        True  NaN   Queenstown    no   True      male    male32   \n",
       "\n",
       "    group  \n",
       "886    청년  \n",
       "887  미성년자  \n",
       "888    청년  \n",
       "889    청년  \n",
       "890    중년  "
      ],
      "text/html": "<div>\n<style scoped>\n    .dataframe tbody tr th:only-of-type {\n        vertical-align: middle;\n    }\n\n    .dataframe tbody tr th {\n        vertical-align: top;\n    }\n\n    .dataframe thead th {\n        text-align: right;\n    }\n</style>\n<table border=\"1\" class=\"dataframe\">\n  <thead>\n    <tr style=\"text-align: right;\">\n      <th></th>\n      <th>survived</th>\n      <th>pclass</th>\n      <th>sex</th>\n      <th>age</th>\n      <th>sibsp</th>\n      <th>parch</th>\n      <th>fare</th>\n      <th>embarked</th>\n      <th>class</th>\n      <th>who</th>\n      <th>adult_male</th>\n      <th>deck</th>\n      <th>embark_town</th>\n      <th>alive</th>\n      <th>alone</th>\n      <th>category1</th>\n      <th>category2</th>\n      <th>group</th>\n    </tr>\n  </thead>\n  <tbody>\n    <tr>\n      <th>886</th>\n      <td>0</td>\n      <td>2</td>\n      <td>male</td>\n      <td>27.0</td>\n      <td>0</td>\n      <td>0</td>\n      <td>13.00</td>\n      <td>S</td>\n      <td>Second</td>\n      <td>man</td>\n      <td>True</td>\n      <td>NaN</td>\n      <td>Southampton</td>\n      <td>no</td>\n      <td>True</td>\n      <td>male</td>\n      <td>male27</td>\n      <td>청년</td>\n    </tr>\n    <tr>\n      <th>887</th>\n      <td>1</td>\n      <td>1</td>\n      <td>female</td>\n      <td>19.0</td>\n      <td>0</td>\n      <td>0</td>\n      <td>30.00</td>\n      <td>S</td>\n      <td>First</td>\n      <td>woman</td>\n      <td>False</td>\n      <td>B</td>\n      <td>Southampton</td>\n      <td>yes</td>\n      <td>True</td>\n      <td>child</td>\n      <td>female19</td>\n      <td>미성년자</td>\n    </tr>\n    <tr>\n      <th>888</th>\n      <td>0</td>\n      <td>3</td>\n      <td>female</td>\n      <td>30.0</td>\n      <td>1</td>\n      <td>2</td>\n      <td>23.45</td>\n      <td>S</td>\n      <td>Third</td>\n      <td>woman</td>\n      <td>False</td>\n      <td>NaN</td>\n      <td>Southampton</td>\n      <td>no</td>\n      <td>False</td>\n      <td>child</td>\n      <td>female30</td>\n      <td>청년</td>\n    </tr>\n    <tr>\n      <th>889</th>\n      <td>1</td>\n      <td>1</td>\n      <td>male</td>\n      <td>26.0</td>\n      <td>0</td>\n      <td>0</td>\n      <td>30.00</td>\n      <td>C</td>\n      <td>First</td>\n      <td>man</td>\n      <td>True</td>\n      <td>C</td>\n      <td>Cherbourg</td>\n      <td>yes</td>\n      <td>True</td>\n      <td>male</td>\n      <td>male26</td>\n      <td>청년</td>\n    </tr>\n    <tr>\n      <th>890</th>\n      <td>0</td>\n      <td>3</td>\n      <td>male</td>\n      <td>32.0</td>\n      <td>0</td>\n      <td>0</td>\n      <td>7.75</td>\n      <td>Q</td>\n      <td>Third</td>\n      <td>man</td>\n      <td>True</td>\n      <td>NaN</td>\n      <td>Queenstown</td>\n      <td>no</td>\n      <td>True</td>\n      <td>male</td>\n      <td>male32</td>\n      <td>중년</td>\n    </tr>\n  </tbody>\n</table>\n</div>"
     },
     "metadata": {},
     "execution_count": 45
    }
   ],
   "source": [
    "titanic['group'] = pd.cut(titanic.age.values, bins, labels=labels)\n",
    "titanic.tail()"
   ]
  },
  {
   "cell_type": "code",
   "execution_count": 46,
   "metadata": {},
   "outputs": [
    {
     "output_type": "execute_result",
     "data": {
      "text/plain": [
       "     survived  pclass     sex   age  sibsp  parch   fare embarked   class  \\\n",
       "886         0       2    male  27.0      0      0  13.00        S  Second   \n",
       "887         1       1  female  19.0      0      0  30.00        S   First   \n",
       "888         0       3  female  30.0      1      2  23.45        S   Third   \n",
       "889         1       1    male  26.0      0      0  30.00        C   First   \n",
       "890         0       3    male  32.0      0      0   7.75        Q   Third   \n",
       "\n",
       "       who  adult_male deck  embark_town alive  alone category1 category2  \\\n",
       "886    man        True  NaN  Southampton    no   True      male    male27   \n",
       "887  woman       False    B  Southampton   yes   True     child  female19   \n",
       "888  woman       False  NaN  Southampton    no  False     child  female30   \n",
       "889    man        True    C    Cherbourg   yes   True      male    male26   \n",
       "890    man        True  NaN   Queenstown    no   True      male    male32   \n",
       "\n",
       "    group  성별  \n",
       "886    청년  남성  \n",
       "887  미성년자  여성  \n",
       "888    청년  여성  \n",
       "889    청년  남성  \n",
       "890    중년  남성  "
      ],
      "text/html": "<div>\n<style scoped>\n    .dataframe tbody tr th:only-of-type {\n        vertical-align: middle;\n    }\n\n    .dataframe tbody tr th {\n        vertical-align: top;\n    }\n\n    .dataframe thead th {\n        text-align: right;\n    }\n</style>\n<table border=\"1\" class=\"dataframe\">\n  <thead>\n    <tr style=\"text-align: right;\">\n      <th></th>\n      <th>survived</th>\n      <th>pclass</th>\n      <th>sex</th>\n      <th>age</th>\n      <th>sibsp</th>\n      <th>parch</th>\n      <th>fare</th>\n      <th>embarked</th>\n      <th>class</th>\n      <th>who</th>\n      <th>adult_male</th>\n      <th>deck</th>\n      <th>embark_town</th>\n      <th>alive</th>\n      <th>alone</th>\n      <th>category1</th>\n      <th>category2</th>\n      <th>group</th>\n      <th>성별</th>\n    </tr>\n  </thead>\n  <tbody>\n    <tr>\n      <th>886</th>\n      <td>0</td>\n      <td>2</td>\n      <td>male</td>\n      <td>27.0</td>\n      <td>0</td>\n      <td>0</td>\n      <td>13.00</td>\n      <td>S</td>\n      <td>Second</td>\n      <td>man</td>\n      <td>True</td>\n      <td>NaN</td>\n      <td>Southampton</td>\n      <td>no</td>\n      <td>True</td>\n      <td>male</td>\n      <td>male27</td>\n      <td>청년</td>\n      <td>남성</td>\n    </tr>\n    <tr>\n      <th>887</th>\n      <td>1</td>\n      <td>1</td>\n      <td>female</td>\n      <td>19.0</td>\n      <td>0</td>\n      <td>0</td>\n      <td>30.00</td>\n      <td>S</td>\n      <td>First</td>\n      <td>woman</td>\n      <td>False</td>\n      <td>B</td>\n      <td>Southampton</td>\n      <td>yes</td>\n      <td>True</td>\n      <td>child</td>\n      <td>female19</td>\n      <td>미성년자</td>\n      <td>여성</td>\n    </tr>\n    <tr>\n      <th>888</th>\n      <td>0</td>\n      <td>3</td>\n      <td>female</td>\n      <td>30.0</td>\n      <td>1</td>\n      <td>2</td>\n      <td>23.45</td>\n      <td>S</td>\n      <td>Third</td>\n      <td>woman</td>\n      <td>False</td>\n      <td>NaN</td>\n      <td>Southampton</td>\n      <td>no</td>\n      <td>False</td>\n      <td>child</td>\n      <td>female30</td>\n      <td>청년</td>\n      <td>여성</td>\n    </tr>\n    <tr>\n      <th>889</th>\n      <td>1</td>\n      <td>1</td>\n      <td>male</td>\n      <td>26.0</td>\n      <td>0</td>\n      <td>0</td>\n      <td>30.00</td>\n      <td>C</td>\n      <td>First</td>\n      <td>man</td>\n      <td>True</td>\n      <td>C</td>\n      <td>Cherbourg</td>\n      <td>yes</td>\n      <td>True</td>\n      <td>male</td>\n      <td>male26</td>\n      <td>청년</td>\n      <td>남성</td>\n    </tr>\n    <tr>\n      <th>890</th>\n      <td>0</td>\n      <td>3</td>\n      <td>male</td>\n      <td>32.0</td>\n      <td>0</td>\n      <td>0</td>\n      <td>7.75</td>\n      <td>Q</td>\n      <td>Third</td>\n      <td>man</td>\n      <td>True</td>\n      <td>NaN</td>\n      <td>Queenstown</td>\n      <td>no</td>\n      <td>True</td>\n      <td>male</td>\n      <td>male32</td>\n      <td>중년</td>\n      <td>남성</td>\n    </tr>\n  </tbody>\n</table>\n</div>"
     },
     "metadata": {},
     "execution_count": 46
    }
   ],
   "source": [
    "titanic['성별'] = titanic.apply(lambda r: '남성' if r.sex == 'male' else '여성', axis=1)\n",
    "titanic.tail()"
   ]
  },
  {
   "cell_type": "code",
   "execution_count": 47,
   "metadata": {},
   "outputs": [
    {
     "output_type": "execute_result",
     "data": {
      "text/plain": [
       "     survived  pclass     sex   age  sibsp  parch   fare embarked   class  \\\n",
       "886         0       2    male  27.0      0      0  13.00        S  Second   \n",
       "887         1       1  female  19.0      0      0  30.00        S   First   \n",
       "888         0       3  female  30.0      1      2  23.45        S   Third   \n",
       "889         1       1    male  26.0      0      0  30.00        C   First   \n",
       "890         0       3    male  32.0      0      0   7.75        Q   Third   \n",
       "\n",
       "       who  adult_male deck  embark_town alive  alone category1 category2  \\\n",
       "886    man        True  NaN  Southampton    no   True      male    male27   \n",
       "887  woman       False    B  Southampton   yes   True     child  female19   \n",
       "888  woman       False  NaN  Southampton    no  False     child  female30   \n",
       "889    man        True    C    Cherbourg   yes   True      male    male26   \n",
       "890    man        True  NaN   Queenstown    no   True      male    male32   \n",
       "\n",
       "    group  성별 category3  \n",
       "886    청년  남성      청년남성  \n",
       "887  미성년자  여성      미성년자  \n",
       "888    청년  여성      청년여성  \n",
       "889    청년  남성      청년남성  \n",
       "890    중년  남성      중년남성  "
      ],
      "text/html": "<div>\n<style scoped>\n    .dataframe tbody tr th:only-of-type {\n        vertical-align: middle;\n    }\n\n    .dataframe tbody tr th {\n        vertical-align: top;\n    }\n\n    .dataframe thead th {\n        text-align: right;\n    }\n</style>\n<table border=\"1\" class=\"dataframe\">\n  <thead>\n    <tr style=\"text-align: right;\">\n      <th></th>\n      <th>survived</th>\n      <th>pclass</th>\n      <th>sex</th>\n      <th>age</th>\n      <th>sibsp</th>\n      <th>parch</th>\n      <th>fare</th>\n      <th>embarked</th>\n      <th>class</th>\n      <th>who</th>\n      <th>adult_male</th>\n      <th>deck</th>\n      <th>embark_town</th>\n      <th>alive</th>\n      <th>alone</th>\n      <th>category1</th>\n      <th>category2</th>\n      <th>group</th>\n      <th>성별</th>\n      <th>category3</th>\n    </tr>\n  </thead>\n  <tbody>\n    <tr>\n      <th>886</th>\n      <td>0</td>\n      <td>2</td>\n      <td>male</td>\n      <td>27.0</td>\n      <td>0</td>\n      <td>0</td>\n      <td>13.00</td>\n      <td>S</td>\n      <td>Second</td>\n      <td>man</td>\n      <td>True</td>\n      <td>NaN</td>\n      <td>Southampton</td>\n      <td>no</td>\n      <td>True</td>\n      <td>male</td>\n      <td>male27</td>\n      <td>청년</td>\n      <td>남성</td>\n      <td>청년남성</td>\n    </tr>\n    <tr>\n      <th>887</th>\n      <td>1</td>\n      <td>1</td>\n      <td>female</td>\n      <td>19.0</td>\n      <td>0</td>\n      <td>0</td>\n      <td>30.00</td>\n      <td>S</td>\n      <td>First</td>\n      <td>woman</td>\n      <td>False</td>\n      <td>B</td>\n      <td>Southampton</td>\n      <td>yes</td>\n      <td>True</td>\n      <td>child</td>\n      <td>female19</td>\n      <td>미성년자</td>\n      <td>여성</td>\n      <td>미성년자</td>\n    </tr>\n    <tr>\n      <th>888</th>\n      <td>0</td>\n      <td>3</td>\n      <td>female</td>\n      <td>30.0</td>\n      <td>1</td>\n      <td>2</td>\n      <td>23.45</td>\n      <td>S</td>\n      <td>Third</td>\n      <td>woman</td>\n      <td>False</td>\n      <td>NaN</td>\n      <td>Southampton</td>\n      <td>no</td>\n      <td>False</td>\n      <td>child</td>\n      <td>female30</td>\n      <td>청년</td>\n      <td>여성</td>\n      <td>청년여성</td>\n    </tr>\n    <tr>\n      <th>889</th>\n      <td>1</td>\n      <td>1</td>\n      <td>male</td>\n      <td>26.0</td>\n      <td>0</td>\n      <td>0</td>\n      <td>30.00</td>\n      <td>C</td>\n      <td>First</td>\n      <td>man</td>\n      <td>True</td>\n      <td>C</td>\n      <td>Cherbourg</td>\n      <td>yes</td>\n      <td>True</td>\n      <td>male</td>\n      <td>male26</td>\n      <td>청년</td>\n      <td>남성</td>\n      <td>청년남성</td>\n    </tr>\n    <tr>\n      <th>890</th>\n      <td>0</td>\n      <td>3</td>\n      <td>male</td>\n      <td>32.0</td>\n      <td>0</td>\n      <td>0</td>\n      <td>7.75</td>\n      <td>Q</td>\n      <td>Third</td>\n      <td>man</td>\n      <td>True</td>\n      <td>NaN</td>\n      <td>Queenstown</td>\n      <td>no</td>\n      <td>True</td>\n      <td>male</td>\n      <td>male32</td>\n      <td>중년</td>\n      <td>남성</td>\n      <td>중년남성</td>\n    </tr>\n  </tbody>\n</table>\n</div>"
     },
     "metadata": {},
     "execution_count": 47
    }
   ],
   "source": [
    "titanic['category3'] = titanic.apply(\n",
    "    lambda r: r.group + r.성별 if r.age >= 20 else '미성년자', \n",
    "    axis=1\n",
    ")\n",
    "titanic.tail()"
   ]
  },
  {
   "source": [
    "### 4.5.1"
   ],
   "cell_type": "markdown",
   "metadata": {}
  },
  {
   "source": [
    "5명의 학생의 국어, 영어, 수학 점수를 나타내는 데이터프레임을 다음과 같이 만든다.\n",
    "\n",
    "- 학생 이름을 나타내는 열을 포함시키지 않고 데이터프레임 df_score1 을 생성한 후, df_score1.index 속성에 학생 이름을 나타내는 열을 지정하여 인덱스를 지정한다. reset_index 명령으로 이 인덱스 열을 명령으로 일반 데이터열로 바꾸여 데이터프레임 df_score2을 만든다.\n",
    "\n",
    "- 학생 이름을 나타내는 열이 일반 데이터 열을 포함하는 데이터프레임 df_score2에 set_index 명령을 적용하여 다시 학생 이름을 나타내는 열을 인덱스로 변경한다.\n"
   ],
   "cell_type": "markdown",
   "metadata": {}
  },
  {
   "cell_type": "code",
   "execution_count": null,
   "metadata": {},
   "outputs": [],
   "source": [
    "np.random.seed(2021)\n",
    "df_score1 = pd.DataFrame(np.random.randint)"
   ]
  },
  {
   "source": [
    "### 4.5.2"
   ],
   "cell_type": "markdown",
   "metadata": {}
  },
  {
   "cell_type": "code",
   "execution_count": null,
   "metadata": {},
   "outputs": [],
   "source": [
    "A 반 학생 5명과 B반 학생 5명의 국어, 영어, 수학 점수를 나타내는 데이터프레임을 다음과 같이 만든다.\n",
    "\n",
    "“반”, “번호”, “국어”, “영어”, “수학” 을 열로 가지는 데이터프레임 df_score3을 만든다.\n",
    "\n",
    "df_score3을 변형하여 1차 행 인덱스로 “반”을 2차 행 인덱스로 “번호”을 가지는 데이터프레임 df_score4을 만든다.\n",
    "\n",
    "데이터 프레임 df_score4에 각 학생의 평균을 나타내는 행을 오른쪽에 추가한다.\n",
    "\n",
    "df_score3을 변형하여 행 인덱스로 “번호”를, 1차 열 인덱스로 “국어”, “영어”, “수학”을, 2차 열 인덱스로 “반”을 가지는 데이터프레임 df_score5을 만든다.\n",
    "\n",
    "데이터 프레임 df_score5에 각 반별 각 과목의 평균을 나타내는 행을 아래에 추가한다."
   ]
  },
  {
   "cell_type": "code",
   "execution_count": 48,
   "metadata": {},
   "outputs": [
    {
     "output_type": "execute_result",
     "data": {
      "text/plain": [
       "     국어  영어  수학\n",
       "이름             \n",
       "김판다  92  61  97\n",
       "이판다  40  85  70\n",
       "박판다  62  84  67\n",
       "최판다  69  61  69\n",
       "정판다  64  52  94"
      ],
      "text/html": "<div>\n<style scoped>\n    .dataframe tbody tr th:only-of-type {\n        vertical-align: middle;\n    }\n\n    .dataframe tbody tr th {\n        vertical-align: top;\n    }\n\n    .dataframe thead th {\n        text-align: right;\n    }\n</style>\n<table border=\"1\" class=\"dataframe\">\n  <thead>\n    <tr style=\"text-align: right;\">\n      <th></th>\n      <th>국어</th>\n      <th>영어</th>\n      <th>수학</th>\n    </tr>\n    <tr>\n      <th>이름</th>\n      <th></th>\n      <th></th>\n      <th></th>\n    </tr>\n  </thead>\n  <tbody>\n    <tr>\n      <th>김판다</th>\n      <td>92</td>\n      <td>61</td>\n      <td>97</td>\n    </tr>\n    <tr>\n      <th>이판다</th>\n      <td>40</td>\n      <td>85</td>\n      <td>70</td>\n    </tr>\n    <tr>\n      <th>박판다</th>\n      <td>62</td>\n      <td>84</td>\n      <td>67</td>\n    </tr>\n    <tr>\n      <th>최판다</th>\n      <td>69</td>\n      <td>61</td>\n      <td>69</td>\n    </tr>\n    <tr>\n      <th>정판다</th>\n      <td>64</td>\n      <td>52</td>\n      <td>94</td>\n    </tr>\n  </tbody>\n</table>\n</div>"
     },
     "metadata": {},
     "execution_count": 48
    }
   ],
   "source": [
    "np.random.seed(2021)\n",
    "df_score1 = pd.DataFrame(np.random.randint(40, 100, 15).reshape(5,3), \n",
    "                         columns=['국어','영어','수학'])\n",
    "df_score1.index = ['김판다','이판다','박판다','최판다','정판다']\n",
    "df_score1.index.name = '이름'\n",
    "df_score1"
   ]
  },
  {
   "cell_type": "code",
   "execution_count": 49,
   "metadata": {},
   "outputs": [
    {
     "output_type": "execute_result",
     "data": {
      "text/plain": [
       "    이름  국어  영어  수학\n",
       "0  김판다  92  61  97\n",
       "1  이판다  40  85  70\n",
       "2  박판다  62  84  67\n",
       "3  최판다  69  61  69\n",
       "4  정판다  64  52  94"
      ],
      "text/html": "<div>\n<style scoped>\n    .dataframe tbody tr th:only-of-type {\n        vertical-align: middle;\n    }\n\n    .dataframe tbody tr th {\n        vertical-align: top;\n    }\n\n    .dataframe thead th {\n        text-align: right;\n    }\n</style>\n<table border=\"1\" class=\"dataframe\">\n  <thead>\n    <tr style=\"text-align: right;\">\n      <th></th>\n      <th>이름</th>\n      <th>국어</th>\n      <th>영어</th>\n      <th>수학</th>\n    </tr>\n  </thead>\n  <tbody>\n    <tr>\n      <th>0</th>\n      <td>김판다</td>\n      <td>92</td>\n      <td>61</td>\n      <td>97</td>\n    </tr>\n    <tr>\n      <th>1</th>\n      <td>이판다</td>\n      <td>40</td>\n      <td>85</td>\n      <td>70</td>\n    </tr>\n    <tr>\n      <th>2</th>\n      <td>박판다</td>\n      <td>62</td>\n      <td>84</td>\n      <td>67</td>\n    </tr>\n    <tr>\n      <th>3</th>\n      <td>최판다</td>\n      <td>69</td>\n      <td>61</td>\n      <td>69</td>\n    </tr>\n    <tr>\n      <th>4</th>\n      <td>정판다</td>\n      <td>64</td>\n      <td>52</td>\n      <td>94</td>\n    </tr>\n  </tbody>\n</table>\n</div>"
     },
     "metadata": {},
     "execution_count": 49
    }
   ],
   "source": [
    "df_score2 = df_score1.reset_index()\n",
    "df_score2"
   ]
  },
  {
   "cell_type": "code",
   "execution_count": 50,
   "metadata": {},
   "outputs": [
    {
     "output_type": "execute_result",
     "data": {
      "text/plain": [
       "     국어  영어  수학\n",
       "이름             \n",
       "김판다  92  61  97\n",
       "이판다  40  85  70\n",
       "박판다  62  84  67\n",
       "최판다  69  61  69\n",
       "정판다  64  52  94"
      ],
      "text/html": "<div>\n<style scoped>\n    .dataframe tbody tr th:only-of-type {\n        vertical-align: middle;\n    }\n\n    .dataframe tbody tr th {\n        vertical-align: top;\n    }\n\n    .dataframe thead th {\n        text-align: right;\n    }\n</style>\n<table border=\"1\" class=\"dataframe\">\n  <thead>\n    <tr style=\"text-align: right;\">\n      <th></th>\n      <th>국어</th>\n      <th>영어</th>\n      <th>수학</th>\n    </tr>\n    <tr>\n      <th>이름</th>\n      <th></th>\n      <th></th>\n      <th></th>\n    </tr>\n  </thead>\n  <tbody>\n    <tr>\n      <th>김판다</th>\n      <td>92</td>\n      <td>61</td>\n      <td>97</td>\n    </tr>\n    <tr>\n      <th>이판다</th>\n      <td>40</td>\n      <td>85</td>\n      <td>70</td>\n    </tr>\n    <tr>\n      <th>박판다</th>\n      <td>62</td>\n      <td>84</td>\n      <td>67</td>\n    </tr>\n    <tr>\n      <th>최판다</th>\n      <td>69</td>\n      <td>61</td>\n      <td>69</td>\n    </tr>\n    <tr>\n      <th>정판다</th>\n      <td>64</td>\n      <td>52</td>\n      <td>94</td>\n    </tr>\n  </tbody>\n</table>\n</div>"
     },
     "metadata": {},
     "execution_count": 50
    }
   ],
   "source": [
    "df_score2.set_index('이름')"
   ]
  }
 ]
}